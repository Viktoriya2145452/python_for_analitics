{
  "metadata": {
    "kernelspec": {
      "name": "python",
      "display_name": "Python (Pyodide)",
      "language": "python"
    },
    "language_info": {
      "codemirror_mode": {
        "name": "python",
        "version": 3
      },
      "file_extension": ".py",
      "mimetype": "text/x-python",
      "name": "python",
      "nbconvert_exporter": "python",
      "pygments_lexer": "ipython3",
      "version": "3.8"
    }
  },
  "nbformat_minor": 5,
  "nbformat": 4,
  "cells": [
    {
      "cell_type": "code",
      "source": "x=1\ny=2\nx+y",
      "metadata": {
        "trusted": true
      },
      "execution_count": 1,
      "outputs": [
        {
          "execution_count": 1,
          "output_type": "execute_result",
          "data": {
            "text/plain": "3"
          },
          "metadata": {}
        }
      ],
      "id": "c8e7b833-d0e7-4dd1-a303-81eb05d46e45"
    },
    {
      "cell_type": "markdown",
      "source": "# Задача 1",
      "metadata": {},
      "id": "ad4d7ed9-6d0d-4a69-a851-b721e879c8f3"
    },
    {
      "cell_type": "markdown",
      "source": "## 1.1 Соедините два словаря в один",
      "metadata": {},
      "id": "1f9ee7bc-69dc-4952-a5a7-57c9ffe85828"
    },
    {
      "cell_type": "code",
      "source": "dict1 = {'One': 1, 'Two': 2, 'Three': 3}\ndict2 = {'Four': 4, 'Five': 5, 'Six': 6}\ndict1.update(dict2)\ndict1",
      "metadata": {
        "trusted": true
      },
      "execution_count": 2,
      "outputs": [
        {
          "execution_count": 2,
          "output_type": "execute_result",
          "data": {
            "text/plain": "{'One': 1, 'Two': 2, 'Three': 3, 'Four': 4, 'Five': 5, 'Six': 6}"
          },
          "metadata": {}
        }
      ],
      "id": "23716262-b14f-4244-828d-1cb80d9baeb4"
    },
    {
      "cell_type": "markdown",
      "source": "## 1.2 Напишите функцию, которая на вход принимает два словаря и возвращает один объединенный словарь Используйте аннотирование типов",
      "metadata": {},
      "id": "e1a9a21c-c468-4eb0-aef8-4befbf95f87b"
    },
    {
      "cell_type": "code",
      "source": "dict1 = {'One': 1, 'Two': 2, 'Three': 3}\ndict2 = {'Four': 4, 'Five': 5, 'Six': 6}\ndef new_dict (dict1: dict, dict2: dict) ->dict:\n    dict1.update(dict2)\n    return dict1\nnew_dict (dict1, dict2)\n    ",
      "metadata": {
        "trusted": true
      },
      "execution_count": 3,
      "outputs": [
        {
          "execution_count": 3,
          "output_type": "execute_result",
          "data": {
            "text/plain": "{'One': 1, 'Two': 2, 'Three': 3, 'Four': 4, 'Five': 5, 'Six': 6}"
          },
          "metadata": {}
        }
      ],
      "id": "3fe12301-3b9d-428d-9606-ca9b93787ce4"
    },
    {
      "cell_type": "markdown",
      "source": "# Задача 2",
      "metadata": {},
      "id": "a1e2eb19-53d9-4661-85b5-63054325dcb4"
    },
    {
      "cell_type": "markdown",
      "source": "## Напишите функцию, которая из двух списков, делает один словарь, где элементы из первого списка - ключи, а элементы из второго списка - значения\n## 2.1 Используя цикл for",
      "metadata": {},
      "id": "c62b220c-966b-4afa-833d-21b4a63239fb"
    },
    {
      "cell_type": "code",
      "source": "keys = ['One', 'Two', 'Three']\nvalues = [1, 2, 3]\ndef new_dict (keys:list, values:list) -> dict:\n    dict1 = {}\n    for i in range(len(keys)):\n        dict1 [keys[i]] = values[i]\n    return dict1\nnew_dict (keys, values)\n        ",
      "metadata": {
        "trusted": true
      },
      "execution_count": 8,
      "outputs": [
        {
          "execution_count": 8,
          "output_type": "execute_result",
          "data": {
            "text/plain": "{'One': 1, 'Two': 2, 'Three': 3}"
          },
          "metadata": {}
        }
      ],
      "id": "c876a9a0-dbe9-47db-b328-8e9e9f6e3f5c"
    },
    {
      "cell_type": "markdown",
      "source": "## 2.2 Используя dict comprehensions",
      "metadata": {},
      "id": "a37694a5-98c3-4306-9746-7a0ae649c3f0"
    },
    {
      "cell_type": "code",
      "source": "keys = ['One', 'Two', 'Three']\nvalues = [1, 2, 3]\ndef new_dict (keys:list, values:list) -> dict:\n    return {keys[i]: values[i] for i in range(len(keys))}\nnew_dict (keys, values)",
      "metadata": {
        "trusted": true
      },
      "execution_count": 9,
      "outputs": [
        {
          "execution_count": 9,
          "output_type": "execute_result",
          "data": {
            "text/plain": "{'One': 1, 'Two': 2, 'Three': 3}"
          },
          "metadata": {}
        }
      ],
      "id": "6b56c582-9d2a-4d77-8be2-c87c13f260c1"
    },
    {
      "cell_type": "markdown",
      "source": "# Задача 3",
      "metadata": {},
      "id": "6337306c-adf0-4877-bb62-92b6c01a197d"
    },
    {
      "cell_type": "markdown",
      "source": "## Извлеките только два ключа name и age из представленного словаря\n## 3.1 Напишите функцию с циклом for\n## Функция на вход принимает:\n## исходный словарь\n## ключи, которые нужно извлечь (аргумент по умолчанию)\n## На выходе словарь с нужными ключами\n## Используйте аннотирование типов\n",
      "metadata": {},
      "id": "712e982f-7ecb-4e82-bd0b-3d07387bcb48"
    },
    {
      "cell_type": "code",
      "source": "client_dict = {\n    \"name\": \"John\",\n    \"age\": 25,\n    \"salary\": 5000,\n    \"city\": \"Moscow\"\n}\ndef new_dict (slovar:dict, lust:list) -> dict:\n    new_slovar = {}\n    for i in lust:\n        new_slovar.update({i: slovar.get(i)})\n    return new_slovar\nnew_dict (client_dict,[\"salary\", \"name\"])",
      "metadata": {
        "trusted": true
      },
      "execution_count": 12,
      "outputs": [
        {
          "execution_count": 12,
          "output_type": "execute_result",
          "data": {
            "text/plain": "{'salary': 5000, 'name': 'John'}"
          },
          "metadata": {}
        }
      ],
      "id": "a4e30552-1fb1-4fda-bd0d-1f644e332968"
    },
    {
      "cell_type": "markdown",
      "source": "## 3.2 Используя dict comprehensions",
      "metadata": {},
      "id": "d5aedc4c-df67-4aeb-933e-11560ab15fdf"
    },
    {
      "cell_type": "code",
      "source": "client_dict = {\n    \"name\": \"John\",\n    \"age\": 25,\n    \"salary\": 5000,\n    \"city\": \"Moscow\"\n}\ndef new_dict (slovar:dict, lust:list) -> dict:\n    return {i: slovar.get(i) for i in lust}\nnew_dict (client_dict,[\"salary\", \"name\"])",
      "metadata": {
        "trusted": true
      },
      "execution_count": 13,
      "outputs": [
        {
          "execution_count": 13,
          "output_type": "execute_result",
          "data": {
            "text/plain": "{'salary': 5000, 'name': 'John'}"
          },
          "metadata": {}
        }
      ],
      "id": "33df67da-77d6-428a-88fc-3f761852530e"
    },
    {
      "cell_type": "markdown",
      "source": "# Задача 2",
      "metadata": {},
      "id": "73cea8de-6158-48c7-8007-f09b189d2e9b"
    },
    {
      "cell_type": "markdown",
      "source": "## На складе лежат разные фрукты в разном количестве. Нужно написать функцию, которая на вход принимает любое количество названий фруктов и их количество, а возвращает общее количество фруктов на складе",
      "metadata": {},
      "id": "ee6d0672-0145-4ca6-ba2a-2e12165418b3"
    },
    {
      "cell_type": "code",
      "source": "def count_fruits(**kwargs):\n    \n    sum_fruits = sum(kwargs.values())\n    \n    return f'Total fruits: {sum_fruits}'\ncount_fruits(apples=9, pears=2, bananas=3)",
      "metadata": {
        "trusted": true
      },
      "execution_count": 38,
      "outputs": [
        {
          "execution_count": 38,
          "output_type": "execute_result",
          "data": {
            "text/plain": "'Total fruits: 14'"
          },
          "metadata": {}
        }
      ],
      "id": "8299faa8-4bcb-4475-b899-7f02929fec9e"
    },
    {
      "cell_type": "markdown",
      "source": "# Задача 3",
      "metadata": {},
      "id": "278ae07e-5796-4889-9689-28775be4dad4"
    },
    {
      "cell_type": "markdown",
      "source": "## Дан список с затратами на рекламу. Но в данных есть ошибки, некоторые затраты имеют отрицательную величину. Удалите такие значения из списка и посчитайте суммарные затраты\n## [100, 125, -90, 345, 655, -1, 0, 200]\n## Используйте list comprehensions",
      "metadata": {},
      "id": "f49ff5a7-acf1-4ab1-a7c9-bbd986720462"
    },
    {
      "cell_type": "code",
      "source": "mas = [100, 125, -90, 345, 655, -1, 0, 200]\nzatraty = [znach for znach in array if znach > 0]\nsum(zatraty)",
      "metadata": {},
      "execution_count": 21,
      "outputs": [
        {
          "execution_count": 21,
          "output_type": "execute_result",
          "data": {
            "text/plain": "1425"
          },
          "metadata": {}
        }
      ],
      "id": "a59b4de3-20e3-4e60-9c26-785a3e6018a2"
    }
  ]
}